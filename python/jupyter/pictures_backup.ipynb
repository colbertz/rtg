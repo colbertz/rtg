{
 "cells": [
  {
   "cell_type": "code",
   "execution_count": 195,
   "metadata": {},
   "outputs": [],
   "source": [
    "from PIL import Image\n",
    "import time\n",
    "import datetime\n",
    "import os\n",
    "import sys\n",
    "import imagehash\n",
    "import json"
   ]
  },
  {
   "cell_type": "code",
   "execution_count": 186,
   "metadata": {},
   "outputs": [
    {
     "data": {
      "text/plain": [
       "'C:\\\\Users\\\\czhou\\\\Pictures\\\\Baby\\\\mmexport1522571860498.jpg'"
      ]
     },
     "execution_count": 186,
     "metadata": {},
     "output_type": "execute_result"
    }
   ],
   "source": [
    "im = Image.open('C:\\\\Users\\\\czhou\\\\Pictures\\\\Baby\\\\mmexport1522571860498.jpg')\n",
    "im.filename"
   ]
  },
  {
   "cell_type": "code",
   "execution_count": 187,
   "metadata": {},
   "outputs": [
    {
     "data": {
      "text/plain": [
       "(1080, 1920)"
      ]
     },
     "execution_count": 187,
     "metadata": {},
     "output_type": "execute_result"
    }
   ],
   "source": [
    "im.size"
   ]
  },
  {
   "cell_type": "code",
   "execution_count": 188,
   "metadata": {},
   "outputs": [],
   "source": [
    "exif_data = im._getexif()"
   ]
  },
  {
   "cell_type": "code",
   "execution_count": 189,
   "metadata": {
    "scrolled": true
   },
   "outputs": [
    {
     "data": {
      "text/plain": [
       "{34665: 38, 274: 1, 40961: 1, 40962: 1080, 40963: 1920}"
      ]
     },
     "execution_count": 189,
     "metadata": {},
     "output_type": "execute_result"
    }
   ],
   "source": [
    "exif_data"
   ]
  },
  {
   "cell_type": "code",
   "execution_count": 183,
   "metadata": {},
   "outputs": [
    {
     "data": {
      "text/plain": [
       "dict"
      ]
     },
     "execution_count": 183,
     "metadata": {},
     "output_type": "execute_result"
    }
   ],
   "source": [
    "type(exif_data)"
   ]
  },
  {
   "cell_type": "code",
   "execution_count": 26,
   "metadata": {},
   "outputs": [
    {
     "data": {
      "text/plain": [
       "'ONEPLUS A5010'"
      ]
     },
     "execution_count": 26,
     "metadata": {},
     "output_type": "execute_result"
    }
   ],
   "source": [
    "exif_data[272]"
   ]
  },
  {
   "cell_type": "code",
   "execution_count": 144,
   "metadata": {},
   "outputs": [
    {
     "data": {
      "text/plain": [
       "'2018:03:30 14:11:53'"
      ]
     },
     "execution_count": 144,
     "metadata": {},
     "output_type": "execute_result"
    }
   ],
   "source": [
    "exif_data[306]"
   ]
  },
  {
   "cell_type": "code",
   "execution_count": 30,
   "metadata": {},
   "outputs": [],
   "source": [
    "hash = imagehash.average_hash(im)"
   ]
  },
  {
   "cell_type": "code",
   "execution_count": 128,
   "metadata": {},
   "outputs": [
    {
     "data": {
      "text/plain": [
       "'defefec0dc86f0f8'"
      ]
     },
     "execution_count": 128,
     "metadata": {},
     "output_type": "execute_result"
    }
   ],
   "source": [
    "str(hash)"
   ]
  },
  {
   "cell_type": "code",
   "execution_count": 146,
   "metadata": {},
   "outputs": [
    {
     "data": {
      "text/plain": [
       "(3456, 4608)"
      ]
     },
     "execution_count": 146,
     "metadata": {},
     "output_type": "execute_result"
    }
   ],
   "source": [
    "im.size"
   ]
  },
  {
   "cell_type": "code",
   "execution_count": 196,
   "metadata": {},
   "outputs": [],
   "source": [
    "def getFolder(im):\n",
    "    exif_data = im._getexif()\n",
    "    if type(exif_data) is dict and 306 in exif_data:\n",
    "        return exif_data[306][0:7].replace(':','-')\n",
    "    else:\n",
    "        return ''"
   ]
  },
  {
   "cell_type": "code",
   "execution_count": 197,
   "metadata": {},
   "outputs": [],
   "source": [
    "def scale(im):\n",
    "    width = im.width\n",
    "    height = im.height\n",
    "    \n",
    "    if width>height and width>1600:\n",
    "        ratio = 1600/width\n",
    "        width = 1600\n",
    "        height = (int)(height * ratio)\n",
    "\n",
    "    if height>width and height>1600:\n",
    "        ratio = 1600/height\n",
    "        width = (int)(width * ratio)\n",
    "        height = 1600\n",
    "\n",
    "    output = im.resize((width, height))\n",
    "    return output\n"
   ]
  },
  {
   "cell_type": "code",
   "execution_count": 201,
   "metadata": {},
   "outputs": [],
   "source": [
    "def processImage(file_path):\n",
    "    print(\"Processing Image: \"+file_path+\" ...\")\n",
    "    \n",
    "    modTimesinceEpoc = os.path.getmtime(file_path)\n",
    "    modificationTime = time.strftime('%Y-%m-%d %H:%M:%S', time.localtime(modTimesinceEpoc))\n",
    "    modificationTime = modificationTime[0:7]\n",
    "    \n",
    "    if not os.path.exists(modificationTime):\n",
    "        os.mkdir(modificationTime)\n",
    "    \n",
    "    if not os.path.exists('thumbnails'):\n",
    "        os.mkdir('thumbnails')\n",
    "    \n",
    "    img = Image.open(file_path)\n",
    "    \n",
    "    folder = getFolder(img)\n",
    "    if folder == '':\n",
    "        folder = modificationTime\n",
    "    \n",
    "    out = scale(img)\n",
    "    hash = str(imagehash.average_hash(out))\n",
    "    print(\"Image has: \"+hash)\n",
    "    if hash in images:\n",
    "        return\n",
    "    else:\n",
    "        out.save(folder+'\\\\'+hash+\".jpg\", \"JPEG\")\n",
    "        out.thumbnail((128, 128))\n",
    "        out.save(\"thumbnails\\\\\"+hash+\".jpg\", \"JPEG\")\n",
    "        images[hash] = folder+'\\\\'+hash+\".jpg\"\n",
    "    "
   ]
  },
  {
   "cell_type": "code",
   "execution_count": 202,
   "metadata": {},
   "outputs": [
    {
     "name": "stdout",
     "output_type": "stream",
     "text": [
      "Processing Image: C:\\Users\\czhou\\Pictures\\Baby\\IMG_20180330_141152.jpg ...\n",
      "Image has: defefec0dc86f0f8\n",
      "Processing Image: C:\\Users\\czhou\\Pictures\\Baby\\IMG_20180330_141341.jpg ...\n",
      "Image has: fffffdc0f0f0f0e8\n",
      "Processing Image: C:\\Users\\czhou\\Pictures\\Baby\\IMG_20180331_090453.jpg ...\n",
      "Image has: effdf1f1f1e0ff7f\n",
      "Processing Image: C:\\Users\\czhou\\Pictures\\Baby\\IMG_20180402_104735.jpg ...\n",
      "Image has: fcf0d08adbf791cf\n",
      "Processing Image: C:\\Users\\czhou\\Pictures\\Baby\\IMG_20180402_104751.jpg ...\n",
      "Image has: 3f7ff1f602c080c0\n",
      "Processing Image: C:\\Users\\czhou\\Pictures\\Baby\\IMG_20180404_072905.jpg ...\n",
      "Image has: 0110fce6e6defe3e\n",
      "Processing Image: C:\\Users\\czhou\\Pictures\\Baby\\IMG_20180404_072914.jpg ...\n",
      "Image has: 0300f8cce4ccbc7e\n",
      "Processing Image: C:\\Users\\czhou\\Pictures\\Baby\\mmexport1522418142153.jpg ...\n",
      "Image has: 73ffc7c0c0c10717\n",
      "Processing Image: C:\\Users\\czhou\\Pictures\\Baby\\mmexport1522571860498.jpg ...\n",
      "Image has: f1e70e00003070c0\n",
      "Processing Image: C:\\Users\\czhou\\Pictures\\Baby\\mmexport1523017842214.jpg ...\n",
      "Image has: fdfc00003d1927ff\n",
      "Processing Image: C:\\Users\\czhou\\Pictures\\Baby\\mmexport1523017846470.jpg ...\n",
      "Image has: 002324fe73f4ec60\n",
      "Processing Image: C:\\Users\\czhou\\Pictures\\Baby\\mmexport1523017849944.jpg ...\n",
      "Image has: 00137ef7f3ec7800\n",
      "Processing Image: C:\\Users\\czhou\\Pictures\\Baby\\mmexport1523017853283.jpg ...\n",
      "Image has: 109176f7f1e46800\n",
      "Processing Image: C:\\Users\\czhou\\Pictures\\Baby\\mmexport1529550118811.jpg ...\n",
      "Image has: ff7f033101000e3f\n",
      "Processing Image: C:\\Users\\czhou\\Pictures\\Baby\\mmexport1529550621923.jpg ...\n",
      "Image has: fff181190c00010f\n",
      "Processing Image: C:\\Users\\czhou\\Pictures\\Baby\\mmexport1529550645283.jpg ...\n",
      "Image has: 0080c258f8f0e0f7\n",
      "Processing Image: C:\\Users\\czhou\\Pictures\\Baby\\mmexport1529550652771.jpg ...\n",
      "Image has: 00055f7f9f7f733c\n",
      "Processing Image: C:\\Users\\czhou\\Pictures\\Baby\\mmexport1529550684583.jpg ...\n",
      "Image has: 10e4ccbebf1e0700\n",
      "Processing Image: C:\\Users\\czhou\\Pictures\\Baby\\mmexport1529550725149.jpg ...\n",
      "Image has: 0301070f0f1727bf\n",
      "Processing Image: C:\\Users\\czhou\\Pictures\\Baby\\mmexport1529550734554.jpg ...\n",
      "Image has: c0201cde3f3f1f0f\n",
      "Processing Image: C:\\Users\\czhou\\Pictures\\Baby\\mmexport1529550746023.jpg ...\n",
      "Image has: f08603000000ffff\n",
      "Processing Image: C:\\Users\\czhou\\Pictures\\Baby\\mmexport1529550820200.jpg ...\n",
      "Image has: 000c0c2fff271f1f\n",
      "Processing Image: C:\\Users\\czhou\\Pictures\\Baby\\mmexport1529550823893.jpg ...\n",
      "Image has: 80f8f8c0e0f8c1ec\n",
      "Processing Image: C:\\Users\\czhou\\Pictures\\Baby\\mmexport1529550956110.jpg ...\n",
      "Image has: fefec840f8fb8300\n",
      "Processing Image: C:\\Users\\czhou\\Pictures\\Baby\\mmexport1529550960588.jpg ...\n",
      "Image has: fefe6440e8f89100\n",
      "Processing Image: C:\\Users\\czhou\\Pictures\\Baby\\mmexport1529551005850.jpg ...\n",
      "Image has: 00808098fcfdfbff\n",
      "Processing Image: C:\\Users\\czhou\\Pictures\\Baby\\mmexport1529551014650.jpg ...\n",
      "Image has: f8e0c080869ef8ff\n",
      "Processing Image: C:\\Users\\czhou\\Pictures\\Baby\\mmexport1529551096415.jpg ...\n",
      "Image has: ff0602038320277f\n",
      "Processing Image: C:\\Users\\czhou\\Pictures\\Baby\\mmexport1529551099686.jpg ...\n",
      "Image has: e783030183f02f7f\n",
      "Processing Image: C:\\Users\\czhou\\Pictures\\Baby\\mmexport1529551138048.jpg ...\n",
      "Image has: 048381853e3ec7c7\n",
      "Processing Image: C:\\Users\\czhou\\Pictures\\Baby\\mmexport1529551143706.jpg ...\n",
      "Image has: ffffc369d3c18180\n",
      "Processing Image: C:\\Users\\czhou\\Pictures\\Baby\\mmexport1529551147409.jpg ...\n",
      "Image has: ffffc1f3c1818001\n",
      "Processing Image: C:\\Users\\czhou\\Pictures\\Baby\\mmexport1529551150605.jpg ...\n",
      "Image has: 7e7e7e7ee3e30400\n",
      "Processing Image: C:\\Users\\czhou\\Pictures\\Baby\\mmexport1529551194234.jpg ...\n",
      "Image has: 3de08e1f1f3f0003\n",
      "Processing Image: C:\\Users\\czhou\\Pictures\\Baby\\mmexport1529551308797.jpg ...\n",
      "Image has: cf870f9ffefc3c08\n",
      "Processing Image: C:\\Users\\czhou\\Pictures\\Baby\\mmexport1529551311702.jpg ...\n",
      "Image has: 0f2f0f8f3dbcfc7c\n",
      "Processing Image: C:\\Users\\czhou\\Pictures\\Baby\\mmexport1529551314549.jpg ...\n",
      "Image has: 07070f0f3ffefe7c\n",
      "Processing Image: C:\\Users\\czhou\\Pictures\\Baby\\mmexport1529551317235.jpg ...\n",
      "Image has: 07030f0f3cfe7c7c\n",
      "Processing Image: C:\\Users\\czhou\\Pictures\\Baby\\wx_camera_1523423404751.jpg ...\n",
      "Image has: fff8e0e0203f7ffb\n",
      "Processing Image: C:\\Users\\czhou\\Pictures\\Baby\\wx_camera_1528356003322.jpg ...\n",
      "Image has: d8e8efcc7f5703c3\n",
      "Processing Image: C:\\Users\\czhou\\Pictures\\Baby\\zxy\\mmexport1529549076143.jpg ...\n",
      "Image has: 6d27000c0c1c3e7e\n",
      "Processing Image: C:\\Users\\czhou\\Pictures\\Baby\\zxy\\mmexport1529549078999.jpg ...\n",
      "Image has: 6676900030347cfc\n",
      "Processing Image: C:\\Users\\czhou\\Pictures\\Baby\\zxy\\mmexport1529549083189.jpg ...\n",
      "Image has: e8c002fefcf4e8c0\n",
      "Processing Image: C:\\Users\\czhou\\Pictures\\Baby\\zxy\\mmexport1529549085781.jpg ...\n",
      "Image has: 343701040e9f1e6e\n",
      "Processing Image: C:\\Users\\czhou\\Pictures\\Baby\\zxy\\mmexport1529549088375.jpg ...\n",
      "Image has: 3830170c0f47c303\n",
      "Processing Image: C:\\Users\\czhou\\Pictures\\Baby\\zxy\\mmexport1529549119617.jpg ...\n",
      "Image has: 0c143070f8f0f800\n",
      "Processing Image: C:\\Users\\czhou\\Pictures\\Baby\\zxy\\mmexport1529549133020.jpg ...\n",
      "Image has: f073101818fcb800\n",
      "Processing Image: C:\\Users\\czhou\\Pictures\\Baby\\zxy\\mmexport1529549136172.jpg ...\n",
      "Image has: 0c3c3c3e787c7cf8\n",
      "Processing Image: C:\\Users\\czhou\\Pictures\\Baby\\zxy\\mmexport1529549248180.jpg ...\n",
      "Image has: ffffff0000603203\n",
      "Processing Image: C:\\Users\\czhou\\Pictures\\Baby\\zxy\\mmexport1529549259882.jpg ...\n",
      "Image has: fff8e0e0203f7ffb\n",
      "Processing Image: C:\\Users\\czhou\\Pictures\\Baby\\zxy\\mmexport1529549274942.jpg ...\n",
      "Image has: 1f1700c0ecfcfefc\n",
      "Processing Image: C:\\Users\\czhou\\Pictures\\Baby\\zxy\\mmexport1529549278746.jpg ...\n",
      "Image has: 7fc78000ecdefede\n",
      "Processing Image: C:\\Users\\czhou\\Pictures\\Baby\\zxy\\mmexport1529550929469.jpg ...\n",
      "Image has: 00000000383e3fff\n",
      "Processing Image: C:\\Users\\czhou\\Pictures\\Baby\\zxy\\mmexport1529550937710.jpg ...\n",
      "Image has: ff40057c1c7ffb60\n",
      "Processing Image: C:\\Users\\czhou\\Pictures\\Baby\\zxy\\mmexport1529551009170.jpg ...\n",
      "Image has: 00018180f77ffffe\n",
      "Processing Image: C:\\Users\\czhou\\Pictures\\Baby\\zxy\\mmexport1529551012161.jpg ...\n",
      "Image has: 006040007ffffe7d\n",
      "Processing Image: C:\\Users\\czhou\\Pictures\\Baby\\zxy\\mmexport1529551017194.jpg ...\n",
      "Image has: f0c80f9ff7ff3c37\n",
      "Processing Image: C:\\Users\\czhou\\Pictures\\Baby\\zxy\\mmexport1529551162876.jpg ...\n",
      "Image has: d8e8efcc7f5703c3\n",
      "Processing Image: C:\\Users\\czhou\\Pictures\\Baby\\zxy\\mmexport1529551171157.jpg ...\n",
      "Image has: 869090101cdcfeff\n",
      "Processing Image: C:\\Users\\czhou\\Pictures\\Baby\\zxy\\mmexport1529551174897.jpg ...\n",
      "Image has: 180080969e9f5fff\n",
      "Processing Image: C:\\Users\\czhou\\Pictures\\Baby\\zxy\\mmexport1529551180253.jpg ...\n",
      "Image has: 180080969e9f5fff\n",
      "Processing Image: C:\\Users\\czhou\\Pictures\\Baby\\zxy\\mmexport1529551186906.jpg ...\n",
      "Image has: cf1d08c08acf8fff\n",
      "Processing Image: C:\\Users\\czhou\\Pictures\\Baby\\zxy\\mmexport1529551190724.jpg ...\n",
      "Image has: 838fc7cf0101bfdf\n",
      "Processing Image: C:\\Users\\czhou\\Pictures\\Baby\\zxy\\mmexport1529551220834.jpg ...\n",
      "Image has: ff0707e3f804208f\n",
      "Processing Image: C:\\Users\\czhou\\Pictures\\Baby\\zxy\\mmexport1529551254763.jpg ...\n",
      "Image has: 00009c3cf80083ff\n",
      "Processing Image: C:\\Users\\czhou\\Pictures\\Baby\\zxy\\mmexport1529551262330.jpg ...\n",
      "Image has: 00f4ffdfeffc80e1\n",
      "Processing Image: C:\\Users\\czhou\\Pictures\\Baby\\zxy\\mmexport1529551361787.jpg ...\n",
      "Image has: ffffcf030020e0f8\n",
      "Processing Image: C:\\Users\\czhou\\Pictures\\Baby\\zxy\\mmexport1529551438336.jpg ...\n",
      "Image has: 0000d03c7ef4feff\n",
      "Processing Image: C:\\Users\\czhou\\Pictures\\Baby\\zxy\\mmexport1535429844386.jpg ...\n",
      "Image has: c6cf8f0f23232333\n",
      "Processing Image: C:\\Users\\czhou\\Pictures\\Baby\\zxy\\wx_camera_1522394002731.jpg ...\n",
      "Image has: 73ffc7c0c0c10717\n",
      "Processing Image: C:\\Users\\czhou\\Pictures\\Baby\\zxy\\wx_camera_1522398109349.jpg ...\n",
      "Image has: b7c7070303fcfe7b\n",
      "Processing Image: C:\\Users\\czhou\\Pictures\\Baby\\zxy\\wx_camera_1522455489624.jpg ...\n",
      "Image has: efefe74707434363\n",
      "Processing Image: C:\\Users\\czhou\\Pictures\\Baby\\zxy\\wx_camera_1522683695909.jpg ...\n",
      "Image has: f00e0eeef6ff7c30\n",
      "Processing Image: C:\\Users\\czhou\\Pictures\\Baby\\zxy\\wx_camera_1522683712489.jpg ...\n",
      "Image has: ff8f07e3e2f0f8e0\n",
      "Processing Image: C:\\Users\\czhou\\Pictures\\Baby\\zxy\\wx_camera_1522757550857.jpg ...\n",
      "Image has: 430381c1c1c1c1c3\n",
      "Processing Image: C:\\Users\\czhou\\Pictures\\Baby\\zxy\\wx_camera_1522843802541.jpg ...\n",
      "Image has: ecd892901270f0e0\n",
      "Processing Image: C:\\Users\\czhou\\Pictures\\Baby\\zxy\\wx_camera_1522931915841.jpg ...\n",
      "Image has: 7e4747c1f1fefff1\n"
     ]
    },
    {
     "name": "stdout",
     "output_type": "stream",
     "text": [
      "Processing Image: C:\\Users\\czhou\\Pictures\\Baby\\zxy\\wx_camera_1522988143949.jpg ...\n",
      "Image has: fdfc00003d1127ff\n",
      "Processing Image: C:\\Users\\czhou\\Pictures\\Baby\\zxy\\wx_camera_1523150223562.jpg ...\n",
      "Image has: 000ce3ff7f7e7000\n",
      "Processing Image: C:\\Users\\czhou\\Pictures\\Baby\\zxy\\wx_camera_1523423366551.jpg ...\n",
      "Image has: ffffff0000603203\n",
      "Processing Image: C:\\Users\\czhou\\Pictures\\Baby\\zxy\\wx_camera_1523530513193.jpg ...\n",
      "Image has: 7f7f1f3e0e049080\n",
      "Processing Image: C:\\Users\\czhou\\Pictures\\Baby\\zxy\\wx_camera_1523545211952.jpg ...\n",
      "Image has: df81e77373d3c308\n",
      "Processing Image: C:\\Users\\czhou\\Pictures\\Baby\\zxy\\wx_camera_1523632656422.jpg ...\n",
      "Image has: ff070100f1ff7f14\n",
      "Processing Image: C:\\Users\\czhou\\Pictures\\Baby\\zxy\\wx_camera_1523682478793.jpg ...\n",
      "Image has: ffc0c080be3f0000\n",
      "Processing Image: C:\\Users\\czhou\\Pictures\\Baby\\zxy\\wx_camera_1523682509676.jpg ...\n",
      "Image has: ffe0808000fc7c30\n",
      "Processing Image: C:\\Users\\czhou\\Pictures\\Baby\\zxy\\wx_camera_1523682652929.jpg ...\n",
      "Image has: f9e0f3c04078f824\n",
      "Processing Image: C:\\Users\\czhou\\Pictures\\Baby\\zxy\\wx_camera_1523682659705.jpg ...\n",
      "Image has: fff1f5850070f860\n",
      "Processing Image: C:\\Users\\czhou\\Pictures\\Baby\\zxy\\wx_camera_1523682670273.jpg ...\n",
      "Image has: fe9814e0f0f80008\n",
      "Processing Image: C:\\Users\\czhou\\Pictures\\Baby\\zxy\\wx_camera_1523691461523.jpg ...\n",
      "Image has: 7f1f07672200ffff\n",
      "Processing Image: C:\\Users\\czhou\\Pictures\\Baby\\zxy\\wx_camera_1523726493371.jpg ...\n",
      "Image has: 00801840c0eeffff\n",
      "Processing Image: C:\\Users\\czhou\\Pictures\\Baby\\zxy\\wx_camera_1523736451037.jpg ...\n",
      "Image has: 8181a3ff1f3f3370\n",
      "Processing Image: C:\\Users\\czhou\\Pictures\\Baby\\zxy\\wx_camera_1524223920505.jpg ...\n",
      "Image has: 1f1f0e0f1f0f0707\n",
      "Processing Image: C:\\Users\\czhou\\Pictures\\Baby\\zxy\\wx_camera_1524237149964.jpg ...\n",
      "Image has: ff0f00010006163e\n",
      "Processing Image: C:\\Users\\czhou\\Pictures\\Baby\\zxy\\wx_camera_1524237163418.jpg ...\n",
      "Image has: 408c85f93efefe63\n",
      "Processing Image: C:\\Users\\czhou\\Pictures\\Baby\\zxy\\wx_camera_1525005374965.jpg ...\n",
      "Image has: 002080fcffff7b38\n",
      "Processing Image: C:\\Users\\czhou\\Pictures\\Baby\\zxy\\wx_camera_1525785988995.jpg ...\n",
      "Image has: 08183effffc00000\n",
      "Processing Image: C:\\Users\\czhou\\Pictures\\Baby\\zxy\\wx_camera_1526031457560.jpg ...\n",
      "Image has: 0080c258f8f0e0f7\n",
      "Processing Image: C:\\Users\\czhou\\Pictures\\Baby\\zxy\\wx_camera_1526034872288.jpg ...\n",
      "Image has: 00055f7f9f7f733c\n",
      "Processing Image: C:\\Users\\czhou\\Pictures\\Baby\\zxy\\wx_camera_1526696951972.jpg ...\n",
      "Image has: ff808038f0f86868\n",
      "Processing Image: C:\\Users\\czhou\\Pictures\\Baby\\zxy\\wx_camera_1526974234003.jpg ...\n",
      "Image has: 000c0c2fff271f1f\n",
      "Processing Image: C:\\Users\\czhou\\Pictures\\Baby\\zxy\\wx_camera_1528250306176.jpg ...\n",
      "Image has: ff0602038320277f\n",
      "Processing Image: C:\\Users\\czhou\\Pictures\\Baby\\zxy\\wx_camera_1528250357986.jpg ...\n",
      "Image has: e703030183f02f7f\n",
      "Processing Image: C:\\Users\\czhou\\Pictures\\Baby\\zxy\\wx_camera_1528285347450.jpg ...\n",
      "Image has: 048381853e3ec7c7\n",
      "Processing Image: C:\\Users\\czhou\\Pictures\\Baby\\zxy\\wx_camera_1528346961237.jpg ...\n",
      "Image has: 7e7e7e7ee3e30400\n",
      "Processing Image: C:\\Users\\czhou\\Pictures\\Baby\\zxy\\wx_camera_1528355094950.jpg ...\n",
      "Image has: 809c07071f1f4fcf\n",
      "Processing Image: C:\\Users\\czhou\\Pictures\\Baby\\zxy\\wx_camera_1528852971438.jpg ...\n",
      "Image has: 8e0f0909090333ff\n",
      "Processing Image: C:\\Users\\czhou\\Pictures\\Baby\\zxy\\wx_camera_1529027108485.jpg ...\n",
      "Image has: 00f4ffdfeffc80e1\n",
      "Processing Image: C:\\Users\\czhou\\Pictures\\Baby\\zxy\\wx_camera_1529119904164.jpg ...\n",
      "Image has: b3f0783cfe000133\n",
      "Processing Image: C:\\Users\\czhou\\Pictures\\Baby\\zxy\\inner\\mmexport1522571799678.jpg ...\n",
      "Image has: ffef0180c0b317ac\n",
      "Processing Image: C:\\Users\\czhou\\Pictures\\Baby\\zxy\\inner\\mmexport1522571841940.jpg ...\n",
      "Image has: fcfcfcf000000000\n",
      "Processing Image: C:\\Users\\czhou\\Pictures\\Baby\\zxy\\inner\\mmexport1523017856658.jpg ...\n",
      "Image has: 101133fff9f0f6e4\n",
      "Processing Image: C:\\Users\\czhou\\Pictures\\Baby\\zxy\\inner\\mmexport1523017860147.jpg ...\n",
      "Image has: e7f1f0f0703023fe\n",
      "Processing Image: C:\\Users\\czhou\\Pictures\\Baby\\zxy\\inner\\mmexport1523017863638.jpg ...\n",
      "Image has: 04fcfcfee6760e01\n",
      "Processing Image: C:\\Users\\czhou\\Pictures\\Baby\\zxy\\inner\\mmexport1523017867084.jpg ...\n",
      "Image has: 00233e3e3e3efc0c\n",
      "Processing Image: C:\\Users\\czhou\\Pictures\\Baby\\zxy\\inner\\mmexport1523017870585.jpg ...\n",
      "Image has: 3f3f3f1b3f0a0606\n",
      "Processing Image: C:\\Users\\czhou\\Pictures\\Baby\\zxy\\inner\\mmexport1523017873955.jpg ...\n",
      "Image has: 0640113e3e3efc18\n",
      "Processing Image: C:\\Users\\czhou\\Pictures\\Baby\\zxy\\inner\\mmexport1523017878873.jpg ...\n",
      "Image has: ecd892901270f0e0\n",
      "Processing Image: C:\\Users\\czhou\\Pictures\\Baby\\zxy\\inner\\mmexport1523017886081.jpg ...\n",
      "Image has: 430381c1c1c1c1c3\n",
      "Processing Image: C:\\Users\\czhou\\Pictures\\Baby\\zxy\\inner\\mmexport1523084549447.jpg ...\n",
      "Image has: 10009f274767073f\n",
      "Processing Image: C:\\Users\\czhou\\Pictures\\Baby\\zxy\\inner\\mmexport1523084560638.jpg ...\n",
      "Image has: 3c1c0c007d99dfef\n",
      "Processing Image: C:\\Users\\czhou\\Pictures\\Baby\\zxy\\inner\\mmexport1523084603183.jpg ...\n",
      "Image has: 8c9e0f0300df9f04\n",
      "Processing Image: C:\\Users\\czhou\\Pictures\\Baby\\zxy\\inner\\mmexport1523084614053.jpg ...\n",
      "Image has: 0027e7c7c3f7f7c0\n",
      "Processing Image: C:\\Users\\czhou\\Pictures\\Baby\\zxy\\inner\\mmexport1523084656949.jpg ...\n",
      "Image has: 70000ff7c3c39f0f\n",
      "Processing Image: C:\\Users\\czhou\\Pictures\\Baby\\zxy\\inner\\mmexport1523084664795.jpg ...\n",
      "Image has: e783c30983cff700\n",
      "Processing Image: C:\\Users\\czhou\\Pictures\\Baby\\zxy\\inner\\mmexport1523084669729.jpg ...\n",
      "Image has: 47434309e7e7ff08\n",
      "Processing Image: C:\\Users\\czhou\\Pictures\\Baby\\zxy\\inner\\mmexport1523084674622.jpg ...\n",
      "Image has: 47434309e7e7ff08\n",
      "Processing Image: C:\\Users\\czhou\\Pictures\\Baby\\zxy\\inner\\mmexport1523084705228.jpg ...\n",
      "Image has: 0027c78797d9e3c7\n",
      "Processing Image: C:\\Users\\czhou\\Pictures\\Baby\\zxy\\inner\\mmexport1529548490342.jpg ...\n",
      "Image has: 07071f3f1f276e4c\n",
      "Processing Image: C:\\Users\\czhou\\Pictures\\Baby\\zxy\\inner\\mmexport1529548493874.jpg ...\n",
      "Image has: 0f0f1f3f3f0f0c0e\n",
      "Processing Image: C:\\Users\\czhou\\Pictures\\Baby\\zxy\\inner\\mmexport1529548498015.jpg ...\n",
      "Image has: 07071f3f1f1f1c0e\n",
      "Processing Image: C:\\Users\\czhou\\Pictures\\Baby\\zxy\\inner\\mmexport1529548501297.jpg ...\n",
      "Image has: 0f0f1f3f1b033e2e\n",
      "Processing Image: C:\\Users\\czhou\\Pictures\\Baby\\zxy\\inner\\mmexport1529548504356.jpg ...\n",
      "Image has: 0f0f1f3f1b061e27\n",
      "Processing Image: C:\\Users\\czhou\\Pictures\\Baby\\zxy\\inner\\mmexport1529548507530.jpg ...\n",
      "Image has: f00e0eeefeff7c38\n",
      "Processing Image: C:\\Users\\czhou\\Pictures\\Baby\\zxy\\inner\\mmexport1529548510757.jpg ...\n",
      "Image has: ff8f07e3e2f0f8e0\n",
      "Processing Image: C:\\Users\\czhou\\Pictures\\Baby\\zxy\\inner\\mmexport1529548554582.jpg ...\n",
      "Image has: df01001c014fffff\n",
      "Processing Image: C:\\Users\\czhou\\Pictures\\Baby\\zxy\\inner\\mmexport1529548569725.jpg ...\n",
      "Image has: 430381c1c1c1c1c3\n",
      "Processing Image: C:\\Users\\czhou\\Pictures\\Baby\\zxy\\inner\\mmexport1529548591721.jpg ...\n",
      "Image has: ecd892901270f0e0\n",
      "Processing Image: C:\\Users\\czhou\\Pictures\\Baby\\zxy\\inner\\mmexport1529548596821.jpg ...\n",
      "Image has: 0640113e3e3efc18\n",
      "Processing Image: C:\\Users\\czhou\\Pictures\\Baby\\zxy\\inner\\mmexport1529548600397.jpg ...\n",
      "Image has: 3f3f3f1b3f0a0606\n",
      "Processing Image: C:\\Users\\czhou\\Pictures\\Baby\\zxy\\inner\\mmexport1529548603176.jpg ...\n",
      "Image has: 00233e3e3e3efc0c\n",
      "Processing Image: C:\\Users\\czhou\\Pictures\\Baby\\zxy\\inner\\mmexport1529548605849.jpg ...\n",
      "Image has: 04fcfcfee6760e01\n",
      "Processing Image: C:\\Users\\czhou\\Pictures\\Baby\\zxy\\inner\\mmexport1529548608910.jpg ...\n",
      "Image has: e7f1f0f0703023fe\n",
      "Processing Image: C:\\Users\\czhou\\Pictures\\Baby\\zxy\\inner\\mmexport1529548612117.jpg ...\n",
      "Image has: 101133fff9f0f6e4\n",
      "Processing Image: C:\\Users\\czhou\\Pictures\\Baby\\zxy\\inner\\mmexport1529548614806.jpg ...\n",
      "Image has: 109176f7f1e46800\n",
      "Processing Image: C:\\Users\\czhou\\Pictures\\Baby\\zxy\\inner\\mmexport1529548618402.jpg ...\n",
      "Image has: 00137ef7f3ec7800\n",
      "Processing Image: C:\\Users\\czhou\\Pictures\\Baby\\zxy\\inner\\mmexport1529548621362.jpg ...\n",
      "Image has: 002324fe73f4ec60\n",
      "Processing Image: C:\\Users\\czhou\\Pictures\\Baby\\zxy\\inner\\mmexport1529548624639.jpg ...\n",
      "Image has: fdfc00003d1927ff\n",
      "Processing Image: C:\\Users\\czhou\\Pictures\\Baby\\zxy\\inner\\mmexport1529548627881.jpg ...\n",
      "Image has: c7c7ffa100e0f0e0\n",
      "Processing Image: C:\\Users\\czhou\\Pictures\\Baby\\zxy\\inner\\mmexport1529548632236.jpg ...\n",
      "Image has: d7c7c3013178f080\n",
      "Processing Image: C:\\Users\\czhou\\Pictures\\Baby\\zxy\\inner\\mmexport1529548636014.jpg ...\n",
      "Image has: fcfcf0f060010b0c\n",
      "Processing Image: C:\\Users\\czhou\\Pictures\\Baby\\zxy\\inner\\mmexport1529548639073.jpg ...\n",
      "Image has: 43d191047efcdc88\n",
      "Processing Image: C:\\Users\\czhou\\Pictures\\Baby\\zxy\\inner\\mmexport1529548740931.jpg ...\n",
      "Image has: 43d191047efcdc88\n",
      "Processing Image: C:\\Users\\czhou\\Pictures\\Baby\\zxy\\inner\\mmexport1529548746566.jpg ...\n",
      "Image has: 2e0741f11cd8881e\n",
      "Processing Image: C:\\Users\\czhou\\Pictures\\Baby\\zxy\\inner\\mmexport1529548750753.jpg ...\n",
      "Image has: ff7f1f8182070f06\n",
      "Processing Image: C:\\Users\\czhou\\Pictures\\Baby\\zxy\\inner\\mmexport1529548754484.jpg ...\n",
      "Image has: c3c389818000fcfd\n",
      "Processing Image: C:\\Users\\czhou\\Pictures\\Baby\\zxy\\inner\\mmexport1529548810570.jpg ...\n"
     ]
    },
    {
     "name": "stdout",
     "output_type": "stream",
     "text": [
      "Image has: 10009f274767073f\n",
      "Processing Image: C:\\Users\\czhou\\Pictures\\Baby\\zxy\\inner\\mmexport1529548951090.jpg ...\n",
      "Image has: 3c1c0c007d99dfef\n",
      "Processing Image: C:\\Users\\czhou\\Pictures\\Baby\\zxy\\inner\\mmexport1529549007094.jpg ...\n",
      "Image has: 8c9e0f0300df9f04\n",
      "Processing Image: C:\\Users\\czhou\\Pictures\\Baby\\zxy\\inner\\mmexport1529549009854.jpg ...\n",
      "Image has: 0027e7c7c3f7f7c0\n",
      "Processing Image: C:\\Users\\czhou\\Pictures\\Baby\\zxy\\inner\\mmexport1529549043108.jpg ...\n",
      "Image has: 70000ff7c3c39f0f\n",
      "Processing Image: C:\\Users\\czhou\\Pictures\\Baby\\zxy\\inner\\mmexport1529549045903.jpg ...\n",
      "Image has: e783c30983cff700\n",
      "Processing Image: C:\\Users\\czhou\\Pictures\\Baby\\zxy\\inner\\mmexport1529549050072.jpg ...\n",
      "Image has: 47434309e7e7ff08\n",
      "Processing Image: C:\\Users\\czhou\\Pictures\\Baby\\zxy\\inner\\mmexport1529549065202.jpg ...\n",
      "Image has: 0027c78797d9e3c7\n",
      "Processing Image: C:\\Users\\czhou\\Pictures\\Baby\\zxy\\inner2\\mmexport1529549303841.jpg ...\n",
      "Image has: 7fc78000ecdefede\n",
      "Processing Image: C:\\Users\\czhou\\Pictures\\Baby\\zxy\\inner2\\mmexport1529549340801.jpg ...\n",
      "Image has: 7f7f1f3e0e049080\n",
      "Processing Image: C:\\Users\\czhou\\Pictures\\Baby\\zxy\\inner2\\mmexport1529549350396.jpg ...\n",
      "Image has: df81e77373d3c308\n",
      "Processing Image: C:\\Users\\czhou\\Pictures\\Baby\\zxy\\inner2\\mmexport1529549428626.jpg ...\n",
      "Image has: 00801848c0eeffff\n",
      "Processing Image: C:\\Users\\czhou\\Pictures\\Baby\\zxy\\inner2\\mmexport1529549457864.jpg ...\n",
      "Image has: 8181a3ff1f3f3370\n",
      "Processing Image: C:\\Users\\czhou\\Pictures\\Baby\\zxy\\inner2\\mmexport1529549474111.jpg ...\n",
      "Image has: 0e1fe7de98802001\n",
      "Processing Image: C:\\Users\\czhou\\Pictures\\Baby\\zxy\\inner2\\mmexport1529549476866.jpg ...\n",
      "Image has: 1fffe58e8880a000\n",
      "Processing Image: C:\\Users\\czhou\\Pictures\\Baby\\zxy\\inner2\\mmexport1529549496882.jpg ...\n",
      "Image has: 90080887863cfefe\n",
      "Processing Image: C:\\Users\\czhou\\Pictures\\Baby\\zxy\\inner2\\mmexport1529549507338.jpg ...\n",
      "Image has: 66c311319090fcfc\n",
      "Processing Image: C:\\Users\\czhou\\Pictures\\Baby\\zxy\\inner2\\mmexport1529549511413.jpg ...\n",
      "Image has: 0000333d6dfd7f3f\n",
      "Processing Image: C:\\Users\\czhou\\Pictures\\Baby\\zxy\\inner2\\mmexport1529549516150.jpg ...\n",
      "Image has: 3ef1e00018ccfc7c\n",
      "Processing Image: C:\\Users\\czhou\\Pictures\\Baby\\zxy\\inner2\\mmexport1529549520925.jpg ...\n",
      "Image has: c7070703e7070f3f\n",
      "Processing Image: C:\\Users\\czhou\\Pictures\\Baby\\zxy\\inner2\\mmexport1529549526135.jpg ...\n",
      "Image has: e7c1c0c0c0800fff\n",
      "Processing Image: C:\\Users\\czhou\\Pictures\\Baby\\zxy\\inner2\\mmexport1529549531845.jpg ...\n",
      "Image has: e0e0e4e0c000fffd\n",
      "Processing Image: C:\\Users\\czhou\\Pictures\\Baby\\zxy\\inner2\\mmexport1529549535031.jpg ...\n",
      "Image has: c0c0f8f8f0000000\n",
      "Processing Image: C:\\Users\\czhou\\Pictures\\Baby\\zxy\\inner2\\mmexport1529549559793.jpg ...\n",
      "Image has: ffff9fbf80000000\n",
      "Processing Image: C:\\Users\\czhou\\Pictures\\Baby\\zxy\\inner2\\mmexport1529549708742.jpg ...\n",
      "Image has: 1f1f0e0f1f0f070f\n",
      "Processing Image: C:\\Users\\czhou\\Pictures\\Baby\\zxy\\inner2\\mmexport1529549713046.jpg ...\n",
      "Image has: ff0f00010006163e\n",
      "Processing Image: C:\\Users\\czhou\\Pictures\\Baby\\zxy\\inner2\\mmexport1529549716389.jpg ...\n",
      "Image has: 408e85f93efefe63\n",
      "Processing Image: C:\\Users\\czhou\\Pictures\\Baby\\zxy\\inner2\\mmexport1529549723130.jpg ...\n",
      "Image has: fefcf80820000000\n",
      "Processing Image: C:\\Users\\czhou\\Pictures\\Baby\\zxy\\inner2\\mmexport1529549728709.jpg ...\n",
      "Image has: 0006ffffff0c0039\n",
      "Processing Image: C:\\Users\\czhou\\Pictures\\Baby\\zxy\\inner2\\mmexport1529549760705.jpg ...\n",
      "Image has: 0180c4cfefe7e733\n",
      "Processing Image: C:\\Users\\czhou\\Pictures\\Baby\\zxy\\inner2\\mmexport1529550111374.jpg ...\n",
      "Image has: 0180c4cfefe7e733\n",
      "Processing Image: C:\\Users\\czhou\\Pictures\\Baby\\zxy\\inner2\\mmexport1529550114693.jpg ...\n",
      "Image has: ffc3438fc7e08013\n",
      "Processing Image: C:\\Users\\czhou\\Pictures\\Baby\\zxy\\inner2\\mmexport1529550121757.jpg ...\n",
      "Image has: e04c0098c8e89cff\n",
      "Processing Image: C:\\Users\\czhou\\Pictures\\Baby\\zxy\\inner2\\mmexport1529550124859.jpg ...\n",
      "Image has: e0e0081898e8c4e4\n",
      "Processing Image: C:\\Users\\czhou\\Pictures\\Baby\\zxy\\inner2\\mmexport1529550401916.jpg ...\n",
      "Image has: 7d87070004ffffff\n",
      "Processing Image: C:\\Users\\czhou\\Pictures\\Baby\\zxy\\inner2\\mmexport1529550415348.jpg ...\n",
      "Image has: f8cf030303ffffff\n",
      "Processing Image: C:\\Users\\czhou\\Pictures\\Baby\\zxy\\inner2\\mmexport1529550449309.jpg ...\n",
      "Image has: 0fef23011e78f181\n",
      "Processing Image: C:\\Users\\czhou\\Pictures\\Baby\\zxy\\inner2\\mmexport1529550452020.jpg ...\n",
      "Image has: ffe703030e1e7941\n",
      "Processing Image: C:\\Users\\czhou\\Pictures\\Baby\\zxy\\inner2\\mmexport1529550469692.jpg ...\n",
      "Image has: 00000f0f0b8fffff\n",
      "Processing Image: C:\\Users\\czhou\\Pictures\\Baby\\zxy\\inner2\\mmexport1529550477209.jpg ...\n",
      "Image has: 0002070787cfe7ff\n",
      "Processing Image: C:\\Users\\czhou\\Pictures\\Baby\\zxy\\inner2\\mmexport1529550479978.jpg ...\n",
      "Image has: 80800787878fcff7\n",
      "Processing Image: C:\\Users\\czhou\\Pictures\\Baby\\zxy\\inner2\\mmexport1529550488702.jpg ...\n",
      "Image has: 0203070f0793ffff\n",
      "Processing Image: C:\\Users\\czhou\\Pictures\\Baby\\zxy\\inner2\\mmexport1529550492497.jpg ...\n",
      "Image has: e1c1c1c0c0f3dfff\n",
      "Processing Image: C:\\Users\\czhou\\Pictures\\Baby\\zxy\\inner2\\mmexport1529550500243.jpg ...\n",
      "Image has: 00000007079fffff\n",
      "Processing Image: C:\\Users\\czhou\\Pictures\\Baby\\zxy\\inner2\\mmexport1529550505076.jpg ...\n",
      "Image has: 00000e8f0f9fffff\n",
      "Processing Image: C:\\Users\\czhou\\Pictures\\Baby\\zxy\\inner2\\mmexport1529550598809.jpg ...\n",
      "Image has: 030700000730ff3f\n",
      "Processing Image: C:\\Users\\czhou\\Pictures\\Baby\\zxy\\inner2\\mmexport1529550688388.jpg ...\n",
      "Image has: 30f8f6ff7b000307\n",
      "Processing Image: C:\\Users\\czhou\\Pictures\\Baby\\zxy\\inner2\\mmexport1529550761140.jpg ...\n",
      "Image has: 0000889f1f7f7fff\n",
      "Processing Image: C:\\Users\\czhou\\Pictures\\Baby\\zxy\\inner2\\mmexport1529550799535.jpg ...\n",
      "Image has: ff808038f0f86868\n",
      "Processing Image: C:\\Users\\czhou\\Pictures\\Baby\\zxy\\inner2\\mmexport1529550899371.jpg ...\n",
      "Image has: 00000000087fffff\n"
     ]
    }
   ],
   "source": [
    "walk_dir = \"C:\\\\Users\\\\czhou\\\\Pictures\\\\Baby\"\n",
    "images={}\n",
    "for root, subdirs, files in os.walk(walk_dir):\n",
    "    for filename in files:\n",
    "            file_path = os.path.join(root, filename)\n",
    "            processImage(file_path)\n",
    "\n",
    "#save the images as json\n",
    "with open('indexes.json', 'w') as fp:\n",
    "    json.dump(images, fp)"
   ]
  },
  {
   "cell_type": "code",
   "execution_count": null,
   "metadata": {},
   "outputs": [],
   "source": []
  },
  {
   "cell_type": "code",
   "execution_count": null,
   "metadata": {},
   "outputs": [],
   "source": []
  }
 ],
 "metadata": {
  "kernelspec": {
   "display_name": "Python 3",
   "language": "python",
   "name": "python3"
  },
  "language_info": {
   "codemirror_mode": {
    "name": "ipython",
    "version": 3
   },
   "file_extension": ".py",
   "mimetype": "text/x-python",
   "name": "python",
   "nbconvert_exporter": "python",
   "pygments_lexer": "ipython3",
   "version": "3.6.5"
  }
 },
 "nbformat": 4,
 "nbformat_minor": 2
}
