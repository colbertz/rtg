{
 "cells": [
  {
   "cell_type": "code",
   "execution_count": 53,
   "metadata": {},
   "outputs": [],
   "source": [
    "from urllib.request import urlopen\n",
    "import re\n",
    "from urllib.request import urlretrieve"
   ]
  },
  {
   "cell_type": "code",
   "execution_count": 54,
   "metadata": {},
   "outputs": [],
   "source": [
    "urlloc = \"https://ocw.mit.edu/courses/electrical-engineering-and-computer-science/6-858-computer-systems-security-fall-2014/lecture-notes\""
   ]
  },
  {
   "cell_type": "code",
   "execution_count": 55,
   "metadata": {},
   "outputs": [],
   "source": [
    "website = urlopen(urlloc)"
   ]
  },
  {
   "cell_type": "code",
   "execution_count": 56,
   "metadata": {},
   "outputs": [],
   "source": [
    "html = website.read().decode('utf-8')"
   ]
  },
  {
   "cell_type": "code",
   "execution_count": 57,
   "metadata": {},
   "outputs": [],
   "source": [
    "links = re.findall(r'href=[\\'\"]?([^\\'\" >]+.pdf[\\'\"])', html)"
   ]
  },
  {
   "cell_type": "code",
   "execution_count": 58,
   "metadata": {},
   "outputs": [
    {
     "name": "stdout",
     "output_type": "stream",
     "text": [
      "https://ocw.mit.edu/courses/electrical-engineering-and-computer-science/6-858-computer-systems-security-fall-2014/lecture-notes/MIT6_858F14_lec1.pdf\n",
      "https://ocw.mit.edu/courses/electrical-engineering-and-computer-science/6-858-computer-systems-security-fall-2014/lecture-notes/MIT6_858F14_lec2.pdf\n",
      "https://ocw.mit.edu/courses/electrical-engineering-and-computer-science/6-858-computer-systems-security-fall-2014/lecture-notes/MIT6_858F14_lec3.pdf\n",
      "https://ocw.mit.edu/courses/electrical-engineering-and-computer-science/6-858-computer-systems-security-fall-2014/lecture-notes/MIT6_858F14_lec4.pdf\n",
      "https://ocw.mit.edu/courses/electrical-engineering-and-computer-science/6-858-computer-systems-security-fall-2014/lecture-notes/MIT6_858F14_lec6.pdf\n",
      "https://ocw.mit.edu/courses/electrical-engineering-and-computer-science/6-858-computer-systems-security-fall-2014/lecture-notes/MIT6_858F14_lec7.pdf\n",
      "https://ocw.mit.edu/courses/electrical-engineering-and-computer-science/6-858-computer-systems-security-fall-2014/lecture-notes/MIT6_858F14_lec8.pdf\n",
      "https://ocw.mit.edu/courses/electrical-engineering-and-computer-science/6-858-computer-systems-security-fall-2014/lecture-notes/MIT6_858F14_lec9.pdf\n",
      "https://ocw.mit.edu/courses/electrical-engineering-and-computer-science/6-858-computer-systems-security-fall-2014/lecture-notes/MIT6_858F14_lec12.pdf\n",
      "https://ocw.mit.edu/courses/electrical-engineering-and-computer-science/6-858-computer-systems-security-fall-2014/lecture-notes/MIT6_858F14_lec13.pdf\n",
      "https://ocw.mit.edu/courses/electrical-engineering-and-computer-science/6-858-computer-systems-security-fall-2014/lecture-notes/MIT6_858F14_lec14.pdf\n",
      "https://ocw.mit.edu/courses/electrical-engineering-and-computer-science/6-858-computer-systems-security-fall-2014/lecture-notes/MIT6_858F14_lec16.pdf\n",
      "https://ocw.mit.edu/courses/electrical-engineering-and-computer-science/6-858-computer-systems-security-fall-2014/lecture-notes/MIT6_858F14_lec17.pdf\n",
      "https://ocw.mit.edu/courses/electrical-engineering-and-computer-science/6-858-computer-systems-security-fall-2014/lecture-notes/MIT6_858F14_lec18.pdf\n",
      "https://ocw.mit.edu/courses/electrical-engineering-and-computer-science/6-858-computer-systems-security-fall-2014/lecture-notes/MIT6_858F14_lec20.pdf\n",
      "https://ocw.mit.edu/courses/electrical-engineering-and-computer-science/6-858-computer-systems-security-fall-2014/lecture-notes/MIT6_858F14_lec21.pdf\n",
      "https://ocw.mit.edu/courses/electrical-engineering-and-computer-science/6-858-computer-systems-security-fall-2014/lecture-notes/MIT6_858F14_lec23.pdf\n"
     ]
    }
   ],
   "source": [
    "for link in links:\n",
    "    link = \"https://ocw.mit.edu\"+link[0:-1]\n",
    "    filename = \"c:\\\\Users\\\\zhouc3\\\\Downloads\\\\\" + link[link.rfind('/')+1:]\n",
    "    print(link)"
   ]
  },
  {
   "cell_type": "code",
   "execution_count": 59,
   "metadata": {},
   "outputs": [
    {
     "name": "stdout",
     "output_type": "stream",
     "text": [
      "c:\\Users\\zhouc3\\Downloads\\MIT6_858F14_lec1.pdf\n",
      "c:\\Users\\zhouc3\\Downloads\\MIT6_858F14_lec2.pdf\n",
      "c:\\Users\\zhouc3\\Downloads\\MIT6_858F14_lec3.pdf\n",
      "c:\\Users\\zhouc3\\Downloads\\MIT6_858F14_lec4.pdf\n",
      "c:\\Users\\zhouc3\\Downloads\\MIT6_858F14_lec6.pdf\n",
      "c:\\Users\\zhouc3\\Downloads\\MIT6_858F14_lec7.pdf\n",
      "c:\\Users\\zhouc3\\Downloads\\MIT6_858F14_lec8.pdf\n",
      "c:\\Users\\zhouc3\\Downloads\\MIT6_858F14_lec9.pdf\n",
      "c:\\Users\\zhouc3\\Downloads\\MIT6_858F14_lec12.pdf\n",
      "c:\\Users\\zhouc3\\Downloads\\MIT6_858F14_lec13.pdf\n",
      "c:\\Users\\zhouc3\\Downloads\\MIT6_858F14_lec14.pdf\n",
      "c:\\Users\\zhouc3\\Downloads\\MIT6_858F14_lec16.pdf\n",
      "c:\\Users\\zhouc3\\Downloads\\MIT6_858F14_lec17.pdf\n",
      "c:\\Users\\zhouc3\\Downloads\\MIT6_858F14_lec18.pdf\n",
      "c:\\Users\\zhouc3\\Downloads\\MIT6_858F14_lec20.pdf\n",
      "c:\\Users\\zhouc3\\Downloads\\MIT6_858F14_lec21.pdf\n",
      "c:\\Users\\zhouc3\\Downloads\\MIT6_858F14_lec23.pdf\n"
     ]
    }
   ],
   "source": [
    "for link in links:\n",
    "    link = \"https://ocw.mit.edu\"+link[0:-1]\n",
    "    filename = \"c:\\\\Users\\\\zhouc3\\\\Downloads\\\\\" + link[link.rfind('/')+1:]\n",
    "    print(filename)"
   ]
  },
  {
   "cell_type": "code",
   "execution_count": 60,
   "metadata": {
    "scrolled": true
   },
   "outputs": [],
   "source": [
    "for link in links:\n",
    "    link = \"https://ocw.mit.edu\"+link[0:-1]\n",
    "    filename = \"c:\\\\Users\\\\zhouc3\\\\Downloads\\\\\" + link[link.rfind('/')+1:]\n",
    "    urlretrieve(link, filename)"
   ]
  }
 ],
 "metadata": {
  "kernelspec": {
   "display_name": "Python 3",
   "language": "python",
   "name": "python3"
  },
  "language_info": {
   "codemirror_mode": {
    "name": "ipython",
    "version": 3
   },
   "file_extension": ".py",
   "mimetype": "text/x-python",
   "name": "python",
   "nbconvert_exporter": "python",
   "pygments_lexer": "ipython3",
   "version": "3.6.3"
  }
 },
 "nbformat": 4,
 "nbformat_minor": 2
}
